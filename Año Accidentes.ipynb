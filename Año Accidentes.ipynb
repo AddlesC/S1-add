{
 "cells": [
  {
   "cell_type": "code",
   "execution_count": 3,
   "metadata": {},
   "outputs": [
    {
     "name": "stderr",
     "output_type": "stream",
     "text": [
      "c:\\Users\\pc\\AppData\\Local\\Programs\\Python\\Python39\\lib\\site-packages\\google\\auth\\_default.py:78: UserWarning: Your application has authenticated using end user credentials from Google Cloud SDK without a quota project. You might receive a \"quota exceeded\" or \"API not enabled\" error. See the following page for troubleshooting: https://cloud.google.com/docs/authentication/adc-troubleshooting/user-creds. \n",
      "  warnings.warn(_CLOUD_SDK_CREDENTIALS_WARNING)\n"
     ]
    }
   ],
   "source": [
    "import numpy as np\n",
    "import matplotlib.pyplot as plt\n",
    "from google.cloud import bigquery\n",
    "client = bigquery.Client(project='poto-382221')\n",
    "query = \"\"\"\n",
    "SELECT \n",
    "    state_name,\n",
    "    EXTRACT(MONTH FROM timestamp_of_crash) AS month,\n",
    "    COUNT(*) AS num_accidents\n",
    "FROM `bigquery-public-data.nhtsa_traffic_fatalities.accident_2015`\n",
    "GROUP BY state_name, month\n",
    "\"\"\"\n",
    "\n",
    "# Ejecutar la consulta\n",
    "query_job = client.query(query)\n",
    "results = query_job.result()\n",
    "\n",
    "# Convertir los resultados a un dataframe de Pandas\n",
    "results_df = results.to_dataframe()\n",
    "\n",
    "# Crear un diccionario para mapear los números de mes a los nombres de mes en español\n",
    "month_names = {\n",
    "    1: 'Enero',\n",
    "    2: 'Febrero',\n",
    "    3: 'Marzo',\n",
    "    4: 'Abril',\n",
    "    5: 'Mayo',\n",
    "    6: 'Junio',\n",
    "    7: 'Julio',\n",
    "    8: 'Agosto',\n",
    "    9: 'Septiembre',\n",
    "    10: 'Octubre',\n",
    "    11: 'Noviembre',\n",
    "    12: 'Diciembre'\n",
    "}\n",
    "\n",
    "# Crear una lista de los estados ordenados por la cantidad de accidentes totales\n",
    "states_sorted = results_df.groupby('state_name')['num_accidents'].sum().sort_values(ascending=False).index.tolist()\n",
    "\n",
    "# Crear una figura con 12 subplots, uno para cada mes\n",
    "fig, axs = plt.subplots(nrows=3, ncols=4, figsize=(40, 40))\n",
    "\n",
    "# Iterar sobre los meses y crear un gráfico de barras para cada mes\n",
    "for i, month in enumerate(range(1, 13)):\n",
    "    # Obtener los datos para el mes actual\n",
    "    month_data = results_df[results_df['month'] == month]\n",
    "    # Crear un array de ceros para almacenar la cantidad de accidentes para cada estado\n",
    "    state_counts = np.zeros(len(states_sorted), dtype=int)\n",
    "    # Iterar sobre los estados y guardar la cantidad de accidentes en el array\n",
    "    for j, state in enumerate(states_sorted):\n",
    "        state_counts[j] = month_data[month_data['state_name'] == state]['num_accidents'].sum()\n",
    "    # Crear un gráfico de barras para el mes actual\n",
    "    ax = axs[i//4][i%4]\n",
    "    ax.barh(states_sorted, state_counts)\n",
    "    ax.set_title(month_names[month])\n",
    "    ax.set_xlabel('Número de accidentes')\n",
    "    ax.set_ylabel('Estado')\n",
    "    \n",
    "# Ajustar el espaciado entre los subplots\n",
    "plt.subplots_adjust(hspace=0.3, wspace=0.3)\n",
    "\n",
    "# Mostrar el gráfico\n",
    "plt.show()"
   ]
  }
 ],
 "metadata": {
  "kernelspec": {
   "display_name": "Python 3",
   "language": "python",
   "name": "python3"
  },
  "language_info": {
   "codemirror_mode": {
    "name": "ipython",
    "version": 3
   },
   "file_extension": ".py",
   "mimetype": "text/x-python",
   "name": "python",
   "nbconvert_exporter": "python",
   "pygments_lexer": "ipython3",
   "version": "3.9.13"
  },
  "orig_nbformat": 4
 },
 "nbformat": 4,
 "nbformat_minor": 2
}
