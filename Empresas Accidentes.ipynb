{
 "cells": [
  {
   "cell_type": "code",
   "execution_count": 1,
   "metadata": {},
   "outputs": [],
   "source": [
    "import matplotlib.pyplot as plt\n",
    "import seaborn as sns\n",
    "import pandas as pd\n",
    "\n",
    "def plot_bar_chart(x, y, xlabel='', ylabel='', title='', figsize=(12,6)):\n",
    "    fig, ax = plt.subplots(figsize=figsize)\n",
    "    sns.barplot(x=x, y=y, palette='Blues_d', ax=ax)\n",
    "    ax.set_xlabel(xlabel, fontsize=14)\n",
    "    ax.set_ylabel(ylabel, fontsize=14)\n",
    "    ax.set_title(title, fontsize=18)\n",
    "    plt.xticks(rotation=90)\n",
    "    plt.show()"
   ]
  },
  {
   "cell_type": "code",
   "execution_count": null,
   "metadata": {},
   "outputs": [],
   "source": [
    "from google.cloud import bigquery\n",
    "client = bigquery.Client(project='poto-382221')\n",
    "query = \"\"\"\n",
    "SELECT ownership_name, COUNT(*) as num_accidents\n",
    "FROM `bigquery-public-data.nhtsa_traffic_fatalities.accident_2015`\n",
    "GROUP BY ownership_name\n",
    "ORDER BY num_accidents DESC\n",
    "\"\"\"\n",
    "\n",
    "# Enviamos la consulta a BigQuery y obtenemos los resultados\n",
    "query_job = client.query(query)\n",
    "results = query_job.result()\n",
    "\n",
    "# Convertimos los resultados a un dataframe de pandas\n",
    "df = pd.DataFrame([(row.ownership_name, row.num_accidents) for row in results], columns=[\"ownership_name\", \"num_accidents\"])\n",
    "plot_bar_chart(x=df['ownership_name'], y=df['num_accidents'], xlabel='Empresa de carreteras', ylabel='Número de accidentes', title='Número de accidentes por empresa de carreteras')"
   ]
  }
 ],
 "metadata": {
  "kernelspec": {
   "display_name": "Python 3",
   "language": "python",
   "name": "python3"
  },
  "language_info": {
   "codemirror_mode": {
    "name": "ipython",
    "version": 3
   },
   "file_extension": ".py",
   "mimetype": "text/x-python",
   "name": "python",
   "nbconvert_exporter": "python",
   "pygments_lexer": "ipython3",
   "version": "3.9.13"
  },
  "orig_nbformat": 4
 },
 "nbformat": 4,
 "nbformat_minor": 2
}
