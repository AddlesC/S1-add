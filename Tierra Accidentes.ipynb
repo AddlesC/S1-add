{
 "cells": [
  {
   "cell_type": "code",
   "execution_count": null,
   "metadata": {},
   "outputs": [],
   "source": []
  },
  {
   "cell_type": "code",
   "execution_count": 3,
   "metadata": {},
   "outputs": [],
   "source": [
    "import matplotlib.pyplot as plt\n",
    "import seaborn as sns\n",
    "import pandas as pd\n",
    "\n",
    "def plot_bar_chart(x, y, xlabel='', ylabel='', title='', figsize=(12,6)):\n",
    "    fig, ax = plt.subplots(figsize=figsize)\n",
    "    sns.barplot(x=x, y=y, palette='Blues_d', ax=ax)\n",
    "    ax.set_xlabel(xlabel, fontsize=14)\n",
    "    ax.set_ylabel(ylabel, fontsize=14)\n",
    "    ax.set_title(title, fontsize=18)\n",
    "    plt.xticks(rotation=90)\n",
    "    plt.show()\n"
   ]
  },
  {
   "cell_type": "code",
   "execution_count": 2,
   "metadata": {},
   "outputs": [
    {
     "name": "stderr",
     "output_type": "stream",
     "text": [
      "c:\\Users\\pc\\AppData\\Local\\Programs\\Python\\Python39\\lib\\site-packages\\google\\auth\\_default.py:78: UserWarning: Your application has authenticated using end user credentials from Google Cloud SDK without a quota project. You might receive a \"quota exceeded\" or \"API not enabled\" error. See the following page for troubleshooting: https://cloud.google.com/docs/authentication/adc-troubleshooting/user-creds. \n",
      "  warnings.warn(_CLOUD_SDK_CREDENTIALS_WARNING)\n"
     ]
    },
    {
     "ename": "NameError",
     "evalue": "name 'plot_bar_chart' is not defined",
     "output_type": "error",
     "traceback": [
      "\u001b[1;31m---------------------------------------------------------------------------\u001b[0m",
      "\u001b[1;31mNameError\u001b[0m                                 Traceback (most recent call last)",
      "Cell \u001b[1;32mIn[2], line 21\u001b[0m\n\u001b[0;32m     18\u001b[0m df \u001b[39m=\u001b[39m pd\u001b[39m.\u001b[39mDataFrame(results\u001b[39m.\u001b[39mto_dataframe())\n\u001b[0;32m     20\u001b[0m \u001b[39m# Graficamos los resultados\u001b[39;00m\n\u001b[1;32m---> 21\u001b[0m plot_bar_chart(x\u001b[39m=\u001b[39mdf[\u001b[39m'\u001b[39m\u001b[39mland_use\u001b[39m\u001b[39m'\u001b[39m], y\u001b[39m=\u001b[39mdf[\u001b[39m'\u001b[39m\u001b[39mnum_accidents\u001b[39m\u001b[39m'\u001b[39m], xlabel\u001b[39m=\u001b[39m\u001b[39m'\u001b[39m\u001b[39mEstado\u001b[39m\u001b[39m'\u001b[39m, ylabel\u001b[39m=\u001b[39m\u001b[39m'\u001b[39m\u001b[39mNúmero de accidentes\u001b[39m\u001b[39m'\u001b[39m, title\u001b[39m=\u001b[39m\u001b[39m'\u001b[39m\u001b[39mAccidentes por uso de tierra\u001b[39m\u001b[39m'\u001b[39m)\n",
      "\u001b[1;31mNameError\u001b[0m: name 'plot_bar_chart' is not defined"
     ]
    }
   ],
   "source": [
    "from google.cloud import bigquery\n",
    "\n",
    "\n",
    "client = bigquery.Client(project='poto-382221')\n",
    "\n",
    "\n",
    "\n",
    "# Ejecutamos la consulta SQL\n",
    "query = \"\"\"\n",
    "SELECT land_use, COUNT(*) AS num_accidents\n",
    "FROM `bigquery-public-data.nhtsa_traffic_fatalities.accident_2015`\n",
    "GROUP BY land_use\n",
    "ORDER BY num_accidents DESC\n",
    "\"\"\"\n",
    "query_job = client.query(query)\n",
    "results = query_job.result()\n",
    "\n",
    "# Convertimos los resultados a un dataframe de pandas\n",
    "df = pd.DataFrame(results.to_dataframe())\n",
    "\n",
    "# Graficamos los resultados\n",
    "plot_bar_chart(x=df['land_use'], y=df['num_accidents'], xlabel='Estado', ylabel='Número de accidentes', title='Accidentes por uso de tierra')"
   ]
  }
 ],
 "metadata": {
  "kernelspec": {
   "display_name": "Python 3",
   "language": "python",
   "name": "python3"
  },
  "language_info": {
   "codemirror_mode": {
    "name": "ipython",
    "version": 3
   },
   "file_extension": ".py",
   "mimetype": "text/x-python",
   "name": "python",
   "nbconvert_exporter": "python",
   "pygments_lexer": "ipython3",
   "version": "3.9.13"
  },
  "orig_nbformat": 4
 },
 "nbformat": 4,
 "nbformat_minor": 2
}
