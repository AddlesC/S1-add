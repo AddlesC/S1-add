{
 "cells": [
  {
   "cell_type": "code",
   "execution_count": 1,
   "metadata": {},
   "outputs": [
    {
     "name": "stderr",
     "output_type": "stream",
     "text": [
      "c:\\Users\\pc\\AppData\\Local\\Programs\\Python\\Python39\\lib\\site-packages\\google\\auth\\_default.py:78: UserWarning: Your application has authenticated using end user credentials from Google Cloud SDK without a quota project. You might receive a \"quota exceeded\" or \"API not enabled\" error. See the following page for troubleshooting: https://cloud.google.com/docs/authentication/adc-troubleshooting/user-creds. \n",
      "  warnings.warn(_CLOUD_SDK_CREDENTIALS_WARNING)\n"
     ]
    }
   ],
   "source": [
    "from google.cloud import bigquery\n",
    "import pandas as pd\n",
    "import matplotlib.pyplot as plt\n",
    "import seaborn as sns\n",
    "import plotly.express as px\n",
    "\n",
    "client = bigquery.Client(project='poto-382221')"
   ]
  },
  {
   "cell_type": "code",
   "execution_count": 3,
   "metadata": {},
   "outputs": [],
   "source": [
    "#Diccionario\n",
    "\n",
    "# Definir la consulta SQL\n",
    "query = \"\"\"\n",
    "    SELECT *\n",
    "    FROM `bigquery-public-data`.nhtsa_traffic_fatalities.INFORMATION_SCHEMA.COLUMN_FIELD_PATHS\n",
    "    WHERE table_name = 'accident_2015'\n",
    "\"\"\"\n",
    "\n",
    "# Ejecutar la consulta y obtener los resultados\n",
    "query_job = client.query(query)\n",
    "results = query_job.result()\n",
    "\n",
    "# Convertir los resultados a un dataframe de Pandas\n",
    "df = pd.DataFrame(results.to_dataframe())\n",
    "\n",
    "# Guardar el dataframe en un archivo CSV\n",
    "df.to_csv('Diccionario.csv', index=False)"
   ]
  }
 ],
 "metadata": {
  "kernelspec": {
   "display_name": "Python 3",
   "language": "python",
   "name": "python3"
  },
  "language_info": {
   "codemirror_mode": {
    "name": "ipython",
    "version": 3
   },
   "file_extension": ".py",
   "mimetype": "text/x-python",
   "name": "python",
   "nbconvert_exporter": "python",
   "pygments_lexer": "ipython3",
   "version": "3.9.13"
  },
  "orig_nbformat": 4
 },
 "nbformat": 4,
 "nbformat_minor": 2
}
